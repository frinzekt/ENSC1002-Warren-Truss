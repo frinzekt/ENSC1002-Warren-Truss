{
 "cells": [
  {
   "cell_type": "markdown",
   "metadata": {},
   "source": [
    "# Reaction Equivalence From RA to LL and DL\n",
    "# By Frinze"
   ]
  },
  {
   "cell_type": "code",
   "execution_count": 1,
   "metadata": {},
   "outputs": [
    {
     "data": {
      "text/latex": [
       "$\\displaystyle F_{RA} = \\frac{5 F_{D}}{8} + \\frac{F_{L}}{2}$"
      ],
      "text/plain": [
       "Eq(F_RA, 5*F_{D}/8 + F_{L}/2)"
      ]
     },
     "metadata": {},
     "output_type": "display_data"
    },
    {
     "data": {
      "text/latex": [
       "$\\displaystyle F_{RI} = \\frac{3 F_{D}}{8} + \\frac{F_{L}}{2}$"
      ],
      "text/plain": [
       "Eq(F_RI, 3*F_{D}/8 + F_{L}/2)"
      ]
     },
     "metadata": {},
     "output_type": "display_data"
    }
   ],
   "source": [
    "import scipy as sci\n",
    "import sympy as sp\n",
    "import math\n",
    "from IPython.display import display\n",
    "\n",
    "\n",
    "LL, DL, ANGLE = sp.symbols('F_{L} F_{D} 45')\n",
    "# ANGLE = math.radians(45)\n",
    "\n",
    "RI = (DL*30+LL*40)/(80)\n",
    "RA = DL + LL - RI\n",
    "\n",
    "display(sp.Eq(sp.S(\"F_RA\"), RA))\n",
    "display(sp.Eq(sp.S(\"F_RI\"), RI))\n"
   ]
  },
  {
   "cell_type": "code",
   "execution_count": 2,
   "metadata": {},
   "outputs": [
    {
     "data": {
      "text/latex": [
       "$\\displaystyle F_{AJ} = \\frac{- \\frac{5 F_{D}}{8} - \\frac{F_{L}}{2}}{\\sin{\\left(45 \\right)}}$"
      ],
      "text/plain": [
       "Eq(F_AJ, (-5*F_{D}/8 - F_{L}/2)/sin(45))"
      ]
     },
     "metadata": {},
     "output_type": "display_data"
    },
    {
     "data": {
      "text/latex": [
       "$\\displaystyle F_{AB} = \\frac{5 F_{D}}{8} + \\frac{F_{L}}{2}$"
      ],
      "text/plain": [
       "Eq(F_AB, 5*F_{D}/8 + F_{L}/2)"
      ]
     },
     "metadata": {},
     "output_type": "display_data"
    },
    {
     "data": {
      "text/latex": [
       "$\\displaystyle F_{BJ} = 0$"
      ],
      "text/plain": [
       "Eq(F_BJ, 0)"
      ]
     },
     "metadata": {},
     "output_type": "display_data"
    },
    {
     "data": {
      "text/latex": [
       "$\\displaystyle F_{BC} = \\frac{5 F_{D}}{8} + \\frac{F_{L}}{2}$"
      ],
      "text/plain": [
       "Eq(F_BC, 5*F_{D}/8 + F_{L}/2)"
      ]
     },
     "metadata": {},
     "output_type": "display_data"
    },
    {
     "data": {
      "text/latex": [
       "$\\displaystyle F_{JC} = \\frac{\\frac{5 F_{D}}{8} + \\frac{F_{L}}{2}}{\\sin{\\left(45 \\right)}}$"
      ],
      "text/plain": [
       "Eq(F_JC, (5*F_{D}/8 + F_{L}/2)/sin(45))"
      ]
     },
     "metadata": {},
     "output_type": "display_data"
    },
    {
     "data": {
      "text/latex": [
       "$\\displaystyle F_{JK} = - \\frac{5 F_{D}}{4} - F_{L}$"
      ],
      "text/plain": [
       "Eq(F_JK, -5*F_{D}/4 - F_{L})"
      ]
     },
     "metadata": {},
     "output_type": "display_data"
    },
    {
     "data": {
      "text/latex": [
       "$\\displaystyle F_{KC} = 0$"
      ],
      "text/plain": [
       "Eq(F_KC, 0)"
      ]
     },
     "metadata": {},
     "output_type": "display_data"
    },
    {
     "data": {
      "text/latex": [
       "$\\displaystyle F_{KL} = - \\frac{5 F_{D}}{4} - F_{L}$"
      ],
      "text/plain": [
       "Eq(F_KL, -5*F_{D}/4 - F_{L})"
      ]
     },
     "metadata": {},
     "output_type": "display_data"
    },
    {
     "data": {
      "text/latex": [
       "$\\displaystyle F_{CL} = \\frac{- \\frac{5 F_{D}}{8} - \\frac{F_{L}}{2}}{\\sin{\\left(45 \\right)}}$"
      ],
      "text/plain": [
       "Eq(F_CL, (-5*F_{D}/8 - F_{L}/2)/sin(45))"
      ]
     },
     "metadata": {},
     "output_type": "display_data"
    },
    {
     "data": {
      "text/latex": [
       "$\\displaystyle F_{CD} = \\frac{15 F_{D}}{8} + \\frac{3 F_{L}}{2}$"
      ],
      "text/plain": [
       "Eq(F_CD, 15*F_{D}/8 + 3*F_{L}/2)"
      ]
     },
     "metadata": {},
     "output_type": "display_data"
    },
    {
     "data": {
      "text/latex": [
       "$\\displaystyle F_{DE} = \\frac{15 F_{D}}{8} + \\frac{3 F_{L}}{2}$"
      ],
      "text/plain": [
       "Eq(F_DE, 15*F_{D}/8 + 3*F_{L}/2)"
      ]
     },
     "metadata": {},
     "output_type": "display_data"
    },
    {
     "data": {
      "text/latex": [
       "$\\displaystyle F_{LE} = \\frac{- \\frac{3 F_{D}}{8} + \\frac{F_{L}}{2}}{\\sin{\\left(45 \\right)}}$"
      ],
      "text/plain": [
       "Eq(F_LE, (-3*F_{D}/8 + F_{L}/2)/sin(45))"
      ]
     },
     "metadata": {},
     "output_type": "display_data"
    },
    {
     "data": {
      "text/latex": [
       "$\\displaystyle F_{LM} = - \\frac{3 F_{D}}{2} - 2 F_{L}$"
      ],
      "text/plain": [
       "Eq(F_LM, -3*F_{D}/2 - 2*F_{L})"
      ]
     },
     "metadata": {},
     "output_type": "display_data"
    },
    {
     "data": {
      "text/latex": [
       "$\\displaystyle F_{ME} = 0$"
      ],
      "text/plain": [
       "Eq(F_ME, 0)"
      ]
     },
     "metadata": {},
     "output_type": "display_data"
    },
    {
     "data": {
      "text/latex": [
       "$\\displaystyle F_{MN} = - \\frac{3 F_{D}}{2} - 2 F_{L}$"
      ],
      "text/plain": [
       "Eq(F_MN, -3*F_{D}/2 - 2*F_{L})"
      ]
     },
     "metadata": {},
     "output_type": "display_data"
    },
    {
     "data": {
      "text/latex": [
       "$\\displaystyle F_{EN} = \\frac{\\frac{3 F_{D}}{8} - \\frac{F_{L}}{2}}{\\sin{\\left(45 \\right)}}$"
      ],
      "text/plain": [
       "Eq(F_EN, (3*F_{D}/8 - F_{L}/2)/sin(45))"
      ]
     },
     "metadata": {},
     "output_type": "display_data"
    },
    {
     "data": {
      "text/latex": [
       "$\\displaystyle F_{EF} = \\frac{9 F_{D}}{8} + \\frac{3 F_{L}}{2}$"
      ],
      "text/plain": [
       "Eq(F_EF, 9*F_{D}/8 + 3*F_{L}/2)"
      ]
     },
     "metadata": {},
     "output_type": "display_data"
    },
    {
     "data": {
      "text/latex": [
       "$\\displaystyle F_{FN} = 0$"
      ],
      "text/plain": [
       "Eq(F_FN, 0)"
      ]
     },
     "metadata": {},
     "output_type": "display_data"
    },
    {
     "data": {
      "text/latex": [
       "$\\displaystyle F_{FG} = \\frac{9 F_{D}}{8} + \\frac{3 F_{L}}{2}$"
      ],
      "text/plain": [
       "Eq(F_FG, 9*F_{D}/8 + 3*F_{L}/2)"
      ]
     },
     "metadata": {},
     "output_type": "display_data"
    },
    {
     "data": {
      "text/latex": [
       "$\\displaystyle F_{NG} = \\frac{- \\frac{3 F_{D}}{8} - \\frac{F_{L}}{2}}{\\sin{\\left(45 \\right)}}$"
      ],
      "text/plain": [
       "Eq(F_NG, (-3*F_{D}/8 - F_{L}/2)/sin(45))"
      ]
     },
     "metadata": {},
     "output_type": "display_data"
    },
    {
     "data": {
      "text/latex": [
       "$\\displaystyle F_{NO} = - \\frac{3 F_{D}}{4} - F_{L}$"
      ],
      "text/plain": [
       "Eq(F_NO, -3*F_{D}/4 - F_{L})"
      ]
     },
     "metadata": {},
     "output_type": "display_data"
    },
    {
     "data": {
      "text/latex": [
       "$\\displaystyle F_{OG} = 0$"
      ],
      "text/plain": [
       "Eq(F_OG, 0)"
      ]
     },
     "metadata": {},
     "output_type": "display_data"
    },
    {
     "data": {
      "text/latex": [
       "$\\displaystyle F_{OP} = - \\frac{3 F_{D}}{4} - F_{L}$"
      ],
      "text/plain": [
       "Eq(F_OP, -3*F_{D}/4 - F_{L})"
      ]
     },
     "metadata": {},
     "output_type": "display_data"
    },
    {
     "data": {
      "text/latex": [
       "$\\displaystyle F_{GP} = \\frac{\\frac{3 F_{D}}{8} + \\frac{F_{L}}{2}}{\\sin{\\left(45 \\right)}}$"
      ],
      "text/plain": [
       "Eq(F_GP, (3*F_{D}/8 + F_{L}/2)/sin(45))"
      ]
     },
     "metadata": {},
     "output_type": "display_data"
    },
    {
     "data": {
      "text/latex": [
       "$\\displaystyle F_{GH} = \\frac{3 F_{D}}{8} + \\frac{F_{L}}{2}$"
      ],
      "text/plain": [
       "Eq(F_GH, 3*F_{D}/8 + F_{L}/2)"
      ]
     },
     "metadata": {},
     "output_type": "display_data"
    },
    {
     "data": {
      "text/latex": [
       "$\\displaystyle F_{HP} = 0$"
      ],
      "text/plain": [
       "Eq(F_HP, 0)"
      ]
     },
     "metadata": {},
     "output_type": "display_data"
    },
    {
     "data": {
      "text/latex": [
       "$\\displaystyle F_{HI} = \\frac{3 F_{D}}{8} + \\frac{F_{L}}{2}$"
      ],
      "text/plain": [
       "Eq(F_HI, 3*F_{D}/8 + F_{L}/2)"
      ]
     },
     "metadata": {},
     "output_type": "display_data"
    },
    {
     "data": {
      "text/latex": [
       "$\\displaystyle F_{\\pi} = \\frac{- \\frac{3 F_{D}}{8} - \\frac{F_{L}}{2}}{\\sin{\\left(45 \\right)}}$"
      ],
      "text/plain": [
       "Eq(F_PI, (-3*F_{D}/8 - F_{L}/2)/sin(45))"
      ]
     },
     "metadata": {},
     "output_type": "display_data"
    }
   ],
   "source": [
    "# Member Definition\n",
    "AJ = -RA / sp.sin(ANGLE)\n",
    "AB = RA\n",
    "\n",
    "display(sp.Eq(sp.S(\"F_AJ\"), AJ))\n",
    "display(sp.Eq(sp.S(\"F_AB\"), AB))\n",
    "\n",
    "BJ = 0\n",
    "BC = RA\n",
    "\n",
    "display(sp.Eq(sp.S(\"F_BJ\"), BJ))\n",
    "display(sp.Eq(sp.S(\"F_BC\"), BC))\n",
    "\n",
    "JC = RA / sp.sin(ANGLE)\n",
    "JK = -2 * RA\n",
    "\n",
    "display(sp.Eq(sp.S(\"F_JC\"), JC))\n",
    "display(sp.Eq(sp.S(\"F_JK\"), JK))\n",
    "\n",
    "KC = 0\n",
    "KL = -2 * RA\n",
    "\n",
    "display(sp.Eq(sp.S(\"F_KC\"), KC))\n",
    "display(sp.Eq(sp.S(\"F_KL\"), KL))\n",
    "\n",
    "CL = -RA / sp.sin(ANGLE)\n",
    "CD = 3 * RA\n",
    "\n",
    "display(sp.Eq(sp.S(\"F_CL\"), CL))\n",
    "display(sp.Eq(sp.S(\"F_CD\"), CD))\n",
    "\n",
    "# Dj = DL\n",
    "DE = 3 * RA\n",
    "\n",
    "# display(sp.Eq(sp.S(\"F_DL\"), DL))\n",
    "display(sp.Eq(sp.S(\"F_DE\"), DE))\n",
    "\n",
    "LE = (RA - DL) / sp.sin(ANGLE)\n",
    "LM = -4 * RA + DL\n",
    "\n",
    "display(sp.Eq(sp.S(\"F_LE\"), LE))\n",
    "display(sp.Eq(sp.S(\"F_LM\"), LM))\n",
    "\n",
    "ME = 0\n",
    "MN = -4 * RA + DL\n",
    "\n",
    "display(sp.Eq(sp.S(\"F_ME\"), ME))\n",
    "display(sp.Eq(sp.S(\"F_MN\"), MN))\n",
    "\n",
    "EN = (-RA + DL) / sp.sin(ANGLE)\n",
    "EF = 5 * RA - (LL + 2 * DL)\n",
    "\n",
    "display(sp.Eq(sp.S(\"F_EN\"), EN))\n",
    "display(sp.Eq(sp.S(\"F_EF\"), EF))\n",
    "\n",
    "FN = 0\n",
    "FG = 5 * RA - (LL + 2 * DL)\n",
    "\n",
    "display(sp.Eq(sp.S(\"F_FN\"), FN))\n",
    "display(sp.Eq(sp.S(\"F_FG\"), FG))\n",
    "\n",
    "NG = (RA - (LL+DL)) / sp.sin(ANGLE)\n",
    "NO = -6 * RA + (2 * LL + 3 * DL)\n",
    "\n",
    "display(sp.Eq(sp.S(\"F_NG\"), NG))\n",
    "display(sp.Eq(sp.S(\"F_NO\"), NO))\n",
    "\n",
    "OG = 0\n",
    "OP = -6 * RA + (2 * LL + 3 * DL)\n",
    "\n",
    "display(sp.Eq(sp.S(\"F_OG\"), OG))\n",
    "display(sp.Eq(sp.S(\"F_OP\"), OP))\n",
    "\n",
    "GP = (-RA + (LL+DL)) / sp.sin(ANGLE)\n",
    "GH = 7 * RA - (3 * LL + 4 * DL)\n",
    "\n",
    "display(sp.Eq(sp.S(\"F_GP\"), GP))\n",
    "display(sp.Eq(sp.S(\"F_GH\"), GH))\n",
    "\n",
    "HP = 0\n",
    "HI = 7 * RA - (3 * LL + 4 * DL)\n",
    "\n",
    "display(sp.Eq(sp.S(\"F_HP\"), HP))\n",
    "display(sp.Eq(sp.S(\"F_HI\"), HI))\n",
    "\n",
    "PI = (RA - (LL + DL)) / sp.sin(ANGLE)\n",
    "\n",
    "display(sp.Eq(sp.S(\"F_PI\"), PI))\n"
   ]
  },
  {
   "cell_type": "code",
   "execution_count": 1,
   "metadata": {},
   "outputs": [],
   "source": []
  }
 ],
 "metadata": {
  "file_extension": ".py",
  "kernelspec": {
   "display_name": "Python 3",
   "language": "python",
   "name": "python3"
  },
  "language_info": {
   "codemirror_mode": {
    "name": "ipython",
    "version": 3
   },
   "file_extension": ".py",
   "mimetype": "text/x-python",
   "name": "python",
   "nbconvert_exporter": "python",
   "pygments_lexer": "ipython3",
   "version": "3.7.3"
  },
  "mimetype": "text/x-python",
  "name": "python",
  "npconvert_exporter": "python",
  "pygments_lexer": "ipython3",
  "version": 3
 },
 "nbformat": 4,
 "nbformat_minor": 2
}
